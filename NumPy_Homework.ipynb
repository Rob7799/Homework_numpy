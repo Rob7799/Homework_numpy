{
  "nbformat": 4,
  "nbformat_minor": 0,
  "metadata": {
    "colab": {
      "name": "NumPy_Homework.ipynb",
      "provenance": [],
      "authorship_tag": "ABX9TyMVXO11c6RBYzkRryKMfIN7",
      "include_colab_link": true
    },
    "kernelspec": {
      "name": "python3",
      "display_name": "Python 3"
    },
    "language_info": {
      "name": "python"
    }
  },
  "cells": [
    {
      "cell_type": "markdown",
      "metadata": {
        "id": "view-in-github",
        "colab_type": "text"
      },
      "source": [
        "<a href=\"https://colab.research.google.com/github/Rob7799/Homework_numpy/blob/main/NumPy_Homework.ipynb\" target=\"_parent\"><img src=\"https://colab.research.google.com/assets/colab-badge.svg\" alt=\"Open In Colab\"/></a>"
      ]
    },
    {
      "cell_type": "code",
      "metadata": {
        "id": "nZotbHuwQKn8"
      },
      "source": [
        "import numpy as np"
      ],
      "execution_count": 2,
      "outputs": []
    },
    {
      "cell_type": "code",
      "metadata": {
        "colab": {
          "base_uri": "https://localhost:8080/"
        },
        "id": "5ZZG-Fs_QXSb",
        "outputId": "328738cd-af3b-4afa-e0e5-37b1561ef726"
      },
      "source": [
        "array1=np.array([1,2,3])\n",
        "array1"
      ],
      "execution_count": 3,
      "outputs": [
        {
          "output_type": "execute_result",
          "data": {
            "text/plain": [
              "array([1, 2, 3])"
            ]
          },
          "metadata": {},
          "execution_count": 3
        }
      ]
    },
    {
      "cell_type": "code",
      "metadata": {
        "colab": {
          "base_uri": "https://localhost:8080/"
        },
        "id": "uE9XUJUlQmJC",
        "outputId": "447e04de-fa52-420f-a534-0ca6cccae600"
      },
      "source": [
        "array2=np.array([[1,2,3],\n",
        "                [4,5,6]])\n",
        "array2"
      ],
      "execution_count": 4,
      "outputs": [
        {
          "output_type": "execute_result",
          "data": {
            "text/plain": [
              "array([[1, 2, 3],\n",
              "       [4, 5, 6]])"
            ]
          },
          "metadata": {},
          "execution_count": 4
        }
      ]
    },
    {
      "cell_type": "code",
      "metadata": {
        "colab": {
          "base_uri": "https://localhost:8080/"
        },
        "id": "ehPFYYeIQ0qC",
        "outputId": "bef5da6e-c915-48ea-f4f5-4daaa62686ae"
      },
      "source": [
        "array3=np.array([[[20,40,50],\n",
        "                  [3,4,99],\n",
        "                 [100,22,11]],\n",
        "                [[23,22,12],\n",
        "                 [99,33,233],\n",
        "                 [100,8,2]]])\n",
        "array3"
      ],
      "execution_count": 5,
      "outputs": [
        {
          "output_type": "execute_result",
          "data": {
            "text/plain": [
              "array([[[ 20,  40,  50],\n",
              "        [  3,   4,  99],\n",
              "        [100,  22,  11]],\n",
              "\n",
              "       [[ 23,  22,  12],\n",
              "        [ 99,  33, 233],\n",
              "        [100,   8,   2]]])"
            ]
          },
          "metadata": {},
          "execution_count": 5
        }
      ]
    },
    {
      "cell_type": "code",
      "metadata": {
        "colab": {
          "base_uri": "https://localhost:8080/"
        },
        "id": "kF8iZVMzR07z",
        "outputId": "1dacae28-950a-4d5b-d398-c2f888a7e03f"
      },
      "source": [
        "array1.shape"
      ],
      "execution_count": 6,
      "outputs": [
        {
          "output_type": "execute_result",
          "data": {
            "text/plain": [
              "(3,)"
            ]
          },
          "metadata": {},
          "execution_count": 6
        }
      ]
    },
    {
      "cell_type": "code",
      "metadata": {
        "colab": {
          "base_uri": "https://localhost:8080/"
        },
        "id": "6wrvDQu6SEiy",
        "outputId": "402ff33a-c898-43a4-b9b4-e822bdb9066b"
      },
      "source": [
        "array1.ndim\n"
      ],
      "execution_count": 7,
      "outputs": [
        {
          "output_type": "execute_result",
          "data": {
            "text/plain": [
              "1"
            ]
          },
          "metadata": {},
          "execution_count": 7
        }
      ]
    },
    {
      "cell_type": "code",
      "metadata": {
        "colab": {
          "base_uri": "https://localhost:8080/"
        },
        "id": "PV74o_EGSNi5",
        "outputId": "4463d1ec-5af8-4ea7-f43f-abe3993472d8"
      },
      "source": [
        "array1.dtype"
      ],
      "execution_count": 8,
      "outputs": [
        {
          "output_type": "execute_result",
          "data": {
            "text/plain": [
              "dtype('int64')"
            ]
          },
          "metadata": {},
          "execution_count": 8
        }
      ]
    },
    {
      "cell_type": "code",
      "metadata": {
        "colab": {
          "base_uri": "https://localhost:8080/"
        },
        "id": "tJlq0E0SSOcF",
        "outputId": "cab0e640-611d-438f-971e-0747e2d466f1"
      },
      "source": [
        "array1.size"
      ],
      "execution_count": 9,
      "outputs": [
        {
          "output_type": "execute_result",
          "data": {
            "text/plain": [
              "3"
            ]
          },
          "metadata": {},
          "execution_count": 9
        }
      ]
    },
    {
      "cell_type": "code",
      "metadata": {
        "colab": {
          "base_uri": "https://localhost:8080/"
        },
        "id": "OA0RTJSaSTpC",
        "outputId": "4d0ab371-e00b-4b13-ad3b-ea3fa107b238"
      },
      "source": [
        "type(array1)\n"
      ],
      "execution_count": 10,
      "outputs": [
        {
          "output_type": "execute_result",
          "data": {
            "text/plain": [
              "numpy.ndarray"
            ]
          },
          "metadata": {},
          "execution_count": 10
        }
      ]
    },
    {
      "cell_type": "code",
      "metadata": {
        "colab": {
          "base_uri": "https://localhost:8080/"
        },
        "id": "D264uZoHSeKq",
        "outputId": "0cccc75a-7313-4410-cf07-e21a215741f4"
      },
      "source": [
        "array2.shape, array2.ndim, array2.dtype, array2.size, type(array2)"
      ],
      "execution_count": 11,
      "outputs": [
        {
          "output_type": "execute_result",
          "data": {
            "text/plain": [
              "((2, 3), 2, dtype('int64'), 6, numpy.ndarray)"
            ]
          },
          "metadata": {},
          "execution_count": 11
        }
      ]
    },
    {
      "cell_type": "code",
      "metadata": {
        "colab": {
          "base_uri": "https://localhost:8080/"
        },
        "id": "1GLM8EodS6OI",
        "outputId": "dd028873-5f03-42a7-a682-4c0e5aac8edd"
      },
      "source": [
        "array3.shape, array3.ndim, array3.dtype, array3.size, type(array3)"
      ],
      "execution_count": 12,
      "outputs": [
        {
          "output_type": "execute_result",
          "data": {
            "text/plain": [
              "((2, 3, 3), 3, dtype('int64'), 18, numpy.ndarray)"
            ]
          },
          "metadata": {},
          "execution_count": 12
        }
      ]
    },
    {
      "cell_type": "code",
      "metadata": {
        "id": "nANza6xwS955"
      },
      "source": [
        "import pandas as pd"
      ],
      "execution_count": 13,
      "outputs": []
    },
    {
      "cell_type": "code",
      "metadata": {
        "colab": {
          "base_uri": "https://localhost:8080/",
          "height": 111
        },
        "id": "O4hhvF_QTBsn",
        "outputId": "e649c133-2a10-4b81-988d-3917a45dac8b"
      },
      "source": [
        "df=pd.DataFrame(array2)\n",
        "df"
      ],
      "execution_count": 14,
      "outputs": [
        {
          "output_type": "execute_result",
          "data": {
            "text/html": [
              "<div>\n",
              "<style scoped>\n",
              "    .dataframe tbody tr th:only-of-type {\n",
              "        vertical-align: middle;\n",
              "    }\n",
              "\n",
              "    .dataframe tbody tr th {\n",
              "        vertical-align: top;\n",
              "    }\n",
              "\n",
              "    .dataframe thead th {\n",
              "        text-align: right;\n",
              "    }\n",
              "</style>\n",
              "<table border=\"1\" class=\"dataframe\">\n",
              "  <thead>\n",
              "    <tr style=\"text-align: right;\">\n",
              "      <th></th>\n",
              "      <th>0</th>\n",
              "      <th>1</th>\n",
              "      <th>2</th>\n",
              "    </tr>\n",
              "  </thead>\n",
              "  <tbody>\n",
              "    <tr>\n",
              "      <th>0</th>\n",
              "      <td>1</td>\n",
              "      <td>2</td>\n",
              "      <td>3</td>\n",
              "    </tr>\n",
              "    <tr>\n",
              "      <th>1</th>\n",
              "      <td>4</td>\n",
              "      <td>5</td>\n",
              "      <td>6</td>\n",
              "    </tr>\n",
              "  </tbody>\n",
              "</table>\n",
              "</div>"
            ],
            "text/plain": [
              "   0  1  2\n",
              "0  1  2  3\n",
              "1  4  5  6"
            ]
          },
          "metadata": {},
          "execution_count": 14
        }
      ]
    },
    {
      "cell_type": "code",
      "metadata": {
        "colab": {
          "base_uri": "https://localhost:8080/"
        },
        "id": "V0UNHj8FTQl9",
        "outputId": "c8e89d8f-9145-435c-b6d0-882b8c7e9d75"
      },
      "source": [
        "np.ones((10,2))"
      ],
      "execution_count": 15,
      "outputs": [
        {
          "output_type": "execute_result",
          "data": {
            "text/plain": [
              "array([[1., 1.],\n",
              "       [1., 1.],\n",
              "       [1., 1.],\n",
              "       [1., 1.],\n",
              "       [1., 1.],\n",
              "       [1., 1.],\n",
              "       [1., 1.],\n",
              "       [1., 1.],\n",
              "       [1., 1.],\n",
              "       [1., 1.]])"
            ]
          },
          "metadata": {},
          "execution_count": 15
        }
      ]
    },
    {
      "cell_type": "code",
      "metadata": {
        "colab": {
          "base_uri": "https://localhost:8080/"
        },
        "id": "L-ZPIT88TqWz",
        "outputId": "9d2698ff-49c8-4108-bf9e-851e8d71c733"
      },
      "source": [
        "np.zeros((7,2,3))"
      ],
      "execution_count": 16,
      "outputs": [
        {
          "output_type": "execute_result",
          "data": {
            "text/plain": [
              "array([[[0., 0., 0.],\n",
              "        [0., 0., 0.]],\n",
              "\n",
              "       [[0., 0., 0.],\n",
              "        [0., 0., 0.]],\n",
              "\n",
              "       [[0., 0., 0.],\n",
              "        [0., 0., 0.]],\n",
              "\n",
              "       [[0., 0., 0.],\n",
              "        [0., 0., 0.]],\n",
              "\n",
              "       [[0., 0., 0.],\n",
              "        [0., 0., 0.]],\n",
              "\n",
              "       [[0., 0., 0.],\n",
              "        [0., 0., 0.]],\n",
              "\n",
              "       [[0., 0., 0.],\n",
              "        [0., 0., 0.]]])"
            ]
          },
          "metadata": {},
          "execution_count": 16
        }
      ]
    },
    {
      "cell_type": "code",
      "metadata": {
        "colab": {
          "base_uri": "https://localhost:8080/"
        },
        "id": "Jgc2A-XYT08C",
        "outputId": "1a942dde-ce68-4c36-89e8-92d0e8f41c1e"
      },
      "source": [
        "np.arange(0,100,3)\n"
      ],
      "execution_count": 17,
      "outputs": [
        {
          "output_type": "execute_result",
          "data": {
            "text/plain": [
              "array([ 0,  3,  6,  9, 12, 15, 18, 21, 24, 27, 30, 33, 36, 39, 42, 45, 48,\n",
              "       51, 54, 57, 60, 63, 66, 69, 72, 75, 78, 81, 84, 87, 90, 93, 96, 99])"
            ]
          },
          "metadata": {},
          "execution_count": 17
        }
      ]
    },
    {
      "cell_type": "code",
      "metadata": {
        "colab": {
          "base_uri": "https://localhost:8080/"
        },
        "id": "kUah7WKxUt8f",
        "outputId": "261ee5b3-dff7-49ca-bb37-fda6ab4a7bc9"
      },
      "source": [
        "np.random.randint(10,size=(7,2))"
      ],
      "execution_count": 18,
      "outputs": [
        {
          "output_type": "execute_result",
          "data": {
            "text/plain": [
              "array([[3, 9],\n",
              "       [4, 5],\n",
              "       [0, 6],\n",
              "       [4, 9],\n",
              "       [5, 9],\n",
              "       [1, 2],\n",
              "       [5, 4]])"
            ]
          },
          "metadata": {},
          "execution_count": 18
        }
      ]
    },
    {
      "cell_type": "code",
      "metadata": {
        "colab": {
          "base_uri": "https://localhost:8080/"
        },
        "id": "g1eBFrYFVLTl",
        "outputId": "97dca631-4291-43ef-ad1f-385873db31c0"
      },
      "source": [
        "np.random.random((3,5))"
      ],
      "execution_count": 19,
      "outputs": [
        {
          "output_type": "execute_result",
          "data": {
            "text/plain": [
              "array([[0.44647086, 0.66186985, 0.61068102, 0.34247043, 0.12983624],\n",
              "       [0.75429227, 0.57714725, 0.49071412, 0.92965974, 0.36875908],\n",
              "       [0.99087824, 0.33645091, 0.07637915, 0.86423238, 0.03379453]])"
            ]
          },
          "metadata": {},
          "execution_count": 19
        }
      ]
    },
    {
      "cell_type": "code",
      "metadata": {
        "id": "4K7nSTmXVlqz"
      },
      "source": [
        "truck=np.random.seed(42)\n",
        "truck"
      ],
      "execution_count": 20,
      "outputs": []
    },
    {
      "cell_type": "code",
      "metadata": {
        "colab": {
          "base_uri": "https://localhost:8080/"
        },
        "id": "O5VG_2M2WN0U",
        "outputId": "54708fd7-d3c0-497b-89a9-82ed677d9ab0"
      },
      "source": [
        "cat=np.random.randint(10, size=(3,7))\n",
        "cat"
      ],
      "execution_count": 21,
      "outputs": [
        {
          "output_type": "execute_result",
          "data": {
            "text/plain": [
              "array([[6, 3, 7, 4, 6, 9, 2],\n",
              "       [6, 7, 4, 3, 7, 7, 2],\n",
              "       [5, 4, 1, 7, 5, 1, 4]])"
            ]
          },
          "metadata": {},
          "execution_count": 21
        }
      ]
    },
    {
      "cell_type": "code",
      "metadata": {
        "colab": {
          "base_uri": "https://localhost:8080/"
        },
        "id": "y-lbEK2zWkJF",
        "outputId": "a12c21ac-580b-4fb3-fe87-6e3c3618e490"
      },
      "source": [
        "cat[0] #14"
      ],
      "execution_count": 22,
      "outputs": [
        {
          "output_type": "execute_result",
          "data": {
            "text/plain": [
              "array([6, 3, 7, 4, 6, 9, 2])"
            ]
          },
          "metadata": {},
          "execution_count": 22
        }
      ]
    },
    {
      "cell_type": "code",
      "metadata": {
        "id": "2vvuDlbVWe0l",
        "colab": {
          "base_uri": "https://localhost:8080/"
        },
        "outputId": "fef19734-7635-4b2f-e8fa-8d8b7e089672"
      },
      "source": [
        "print(cat[0:2])\n"
      ],
      "execution_count": 27,
      "outputs": [
        {
          "output_type": "stream",
          "text": [
            "[[6 3 7 4 6 9 2]\n",
            " [6 7 4 3 7 7 2]]\n"
          ],
          "name": "stdout"
        }
      ]
    },
    {
      "cell_type": "code",
      "metadata": {
        "id": "YL32_HtkSuMS",
        "colab": {
          "base_uri": "https://localhost:8080/"
        },
        "outputId": "d6debc2d-bc51-4406-8fe7-5303509e40b6"
      },
      "source": [
        "cat[0:2,0:2]"
      ],
      "execution_count": 29,
      "outputs": [
        {
          "output_type": "execute_result",
          "data": {
            "text/plain": [
              "array([[6, 3],\n",
              "       [6, 7]])"
            ]
          },
          "metadata": {},
          "execution_count": 29
        }
      ]
    },
    {
      "cell_type": "code",
      "metadata": {
        "colab": {
          "base_uri": "https://localhost:8080/"
        },
        "id": "RRYfPNhbLpKV",
        "outputId": "8bd9e323-7083-4926-df30-873248ffa86b"
      },
      "source": [
        "dog=np.random.randint(10, size=(3,5)) #17\n",
        "dog"
      ],
      "execution_count": 32,
      "outputs": [
        {
          "output_type": "execute_result",
          "data": {
            "text/plain": [
              "array([[3, 8, 1, 9, 8],\n",
              "       [9, 4, 1, 3, 6],\n",
              "       [7, 2, 0, 3, 1]])"
            ]
          },
          "metadata": {},
          "execution_count": 32
        }
      ]
    },
    {
      "cell_type": "code",
      "metadata": {
        "colab": {
          "base_uri": "https://localhost:8080/"
        },
        "id": "NiT7iiH8L9_e",
        "outputId": "447583dd-4aae-406b-f0e7-73e2effde970"
      },
      "source": [
        "tiger=np.ones((3,5))\n",
        "tiger"
      ],
      "execution_count": 36,
      "outputs": [
        {
          "output_type": "execute_result",
          "data": {
            "text/plain": [
              "array([[1., 1., 1., 1., 1.],\n",
              "       [1., 1., 1., 1., 1.],\n",
              "       [1., 1., 1., 1., 1.]])"
            ]
          },
          "metadata": {},
          "execution_count": 36
        }
      ]
    },
    {
      "cell_type": "code",
      "metadata": {
        "colab": {
          "base_uri": "https://localhost:8080/"
        },
        "id": "RGwHaaM5MeEs",
        "outputId": "939fc99b-2795-445e-ec72-6496b1d80b0c"
      },
      "source": [
        "zoo=tiger+dog\n",
        "zoo"
      ],
      "execution_count": 44,
      "outputs": [
        {
          "output_type": "execute_result",
          "data": {
            "text/plain": [
              "array([[ 4.,  9.,  2., 10.,  9.],\n",
              "       [10.,  5.,  2.,  4.,  7.],\n",
              "       [ 8.,  3.,  1.,  4.,  2.]])"
            ]
          },
          "metadata": {},
          "execution_count": 44
        }
      ]
    },
    {
      "cell_type": "code",
      "metadata": {
        "colab": {
          "base_uri": "https://localhost:8080/"
        },
        "id": "vTFFS64VM23M",
        "outputId": "51e0026f-bf7b-413f-f640-98b3d124ab71"
      },
      "source": [
        "np.ones((3,5)).shape\n",
        "ant=np.ones((3,5))\n",
        "ant"
      ],
      "execution_count": 42,
      "outputs": [
        {
          "output_type": "execute_result",
          "data": {
            "text/plain": [
              "array([[1., 1., 1., 1., 1.],\n",
              "       [1., 1., 1., 1., 1.],\n",
              "       [1., 1., 1., 1., 1.]])"
            ]
          },
          "metadata": {},
          "execution_count": 42
        }
      ]
    },
    {
      "cell_type": "code",
      "metadata": {
        "id": "etdvaUnHLtjy"
      },
      "source": [
        "farm=zoo+ant"
      ],
      "execution_count": 48,
      "outputs": []
    },
    {
      "cell_type": "code",
      "metadata": {
        "colab": {
          "base_uri": "https://localhost:8080/"
        },
        "id": "2D3fL9CXNMsu",
        "outputId": "11ae4723-02cd-49ac-ccd6-5752c3f2e765"
      },
      "source": [
        "monkey=np.ones((3,5))\n",
        "monkey"
      ],
      "execution_count": 47,
      "outputs": [
        {
          "output_type": "execute_result",
          "data": {
            "text/plain": [
              "array([[1., 1., 1., 1., 1.],\n",
              "       [1., 1., 1., 1., 1.],\n",
              "       [1., 1., 1., 1., 1.]])"
            ]
          },
          "metadata": {},
          "execution_count": 47
        }
      ]
    },
    {
      "cell_type": "code",
      "metadata": {
        "id": "TTxeg3wFNR16"
      },
      "source": [
        "bird=farm-monkey"
      ],
      "execution_count": 50,
      "outputs": []
    },
    {
      "cell_type": "code",
      "metadata": {
        "colab": {
          "base_uri": "https://localhost:8080/"
        },
        "id": "FR4eXhoONY3Y",
        "outputId": "5bf54dba-740d-4f13-d230-f95092ad6aac"
      },
      "source": [
        "time=monkey*bird #23\n",
        "time"
      ],
      "execution_count": 52,
      "outputs": [
        {
          "output_type": "execute_result",
          "data": {
            "text/plain": [
              "array([[ 4.,  9.,  2., 10.,  9.],\n",
              "       [10.,  5.,  2.,  4.,  7.],\n",
              "       [ 8.,  3.,  1.,  4.,  2.]])"
            ]
          },
          "metadata": {},
          "execution_count": 52
        }
      ]
    },
    {
      "cell_type": "code",
      "metadata": {
        "colab": {
          "base_uri": "https://localhost:8080/"
        },
        "id": "wyyQatBhOnMR",
        "outputId": "db82c9ef-d1e4-4f4a-8509-9e712997928b"
      },
      "source": [
        "time**2"
      ],
      "execution_count": 53,
      "outputs": [
        {
          "output_type": "execute_result",
          "data": {
            "text/plain": [
              "array([[ 16.,  81.,   4., 100.,  81.],\n",
              "       [100.,  25.,   4.,  16.,  49.],\n",
              "       [ 64.,   9.,   1.,  16.,   4.]])"
            ]
          },
          "metadata": {},
          "execution_count": 53
        }
      ]
    },
    {
      "cell_type": "code",
      "metadata": {
        "colab": {
          "base_uri": "https://localhost:8080/"
        },
        "id": "QiujLoWwNpAr",
        "outputId": "be136e6d-f367-4aee-c4f8-c980e9be7597"
      },
      "source": [
        "np.square(time)"
      ],
      "execution_count": 54,
      "outputs": [
        {
          "output_type": "execute_result",
          "data": {
            "text/plain": [
              "array([[ 16.,  81.,   4., 100.,  81.],\n",
              "       [100.,  25.,   4.,  16.,  49.],\n",
              "       [ 64.,   9.,   1.,  16.,   4.]])"
            ]
          },
          "metadata": {},
          "execution_count": 54
        }
      ]
    },
    {
      "cell_type": "code",
      "metadata": {
        "colab": {
          "base_uri": "https://localhost:8080/"
        },
        "id": "vYkgxQc2PvPO",
        "outputId": "b3bd934f-7428-47b4-eb31-416b9b774df0"
      },
      "source": [
        "np.mean(time)"
      ],
      "execution_count": 55,
      "outputs": [
        {
          "output_type": "execute_result",
          "data": {
            "text/plain": [
              "5.333333333333333"
            ]
          },
          "metadata": {},
          "execution_count": 55
        }
      ]
    },
    {
      "cell_type": "code",
      "metadata": {
        "colab": {
          "base_uri": "https://localhost:8080/"
        },
        "id": "3q3RwxsgP0SM",
        "outputId": "10eaf941-6fa0-41d4-df44-79d7cf79984e"
      },
      "source": [
        "np.max(time)"
      ],
      "execution_count": 56,
      "outputs": [
        {
          "output_type": "execute_result",
          "data": {
            "text/plain": [
              "10.0"
            ]
          },
          "metadata": {},
          "execution_count": 56
        }
      ]
    },
    {
      "cell_type": "code",
      "metadata": {
        "colab": {
          "base_uri": "https://localhost:8080/"
        },
        "id": "bhrIixeVP3xc",
        "outputId": "8c7dd00c-758b-440a-fee5-bdc5f5c46842"
      },
      "source": [
        "np.min(time)"
      ],
      "execution_count": 57,
      "outputs": [
        {
          "output_type": "execute_result",
          "data": {
            "text/plain": [
              "1.0"
            ]
          },
          "metadata": {},
          "execution_count": 57
        }
      ]
    },
    {
      "cell_type": "code",
      "metadata": {
        "colab": {
          "base_uri": "https://localhost:8080/"
        },
        "id": "Na55kQpRP7hW",
        "outputId": "f600a7e0-dceb-43c0-8d45-fdac5a0efba1"
      },
      "source": [
        "np.std(time)"
      ],
      "execution_count": 58,
      "outputs": [
        {
          "output_type": "execute_result",
          "data": {
            "text/plain": [
              "3.0912061651652345"
            ]
          },
          "metadata": {},
          "execution_count": 58
        }
      ]
    },
    {
      "cell_type": "code",
      "metadata": {
        "colab": {
          "base_uri": "https://localhost:8080/"
        },
        "id": "RPIiFy2tQDOo",
        "outputId": "dfd72fff-9f7a-44dd-e29f-d91290893c66"
      },
      "source": [
        "np.var(time)"
      ],
      "execution_count": 59,
      "outputs": [
        {
          "output_type": "execute_result",
          "data": {
            "text/plain": [
              "9.555555555555555"
            ]
          },
          "metadata": {},
          "execution_count": 59
        }
      ]
    },
    {
      "cell_type": "code",
      "metadata": {
        "colab": {
          "base_uri": "https://localhost:8080/"
        },
        "id": "i-DiVYIZTLLl",
        "outputId": "1d2e2755-3b12-4ce6-cf9d-4cdf140477c8"
      },
      "source": [
        "dolphin=time.reshape(3,5,1)\n",
        "dolphin"
      ],
      "execution_count": 64,
      "outputs": [
        {
          "output_type": "execute_result",
          "data": {
            "text/plain": [
              "array([[[ 4.],\n",
              "        [ 9.],\n",
              "        [ 2.],\n",
              "        [10.],\n",
              "        [ 9.]],\n",
              "\n",
              "       [[10.],\n",
              "        [ 5.],\n",
              "        [ 2.],\n",
              "        [ 4.],\n",
              "        [ 7.]],\n",
              "\n",
              "       [[ 8.],\n",
              "        [ 3.],\n",
              "        [ 1.],\n",
              "        [ 4.],\n",
              "        [ 2.]]])"
            ]
          },
          "metadata": {},
          "execution_count": 64
        }
      ]
    },
    {
      "cell_type": "code",
      "metadata": {
        "colab": {
          "base_uri": "https://localhost:8080/"
        },
        "id": "K23ObyCBTVv7",
        "outputId": "e2a2580d-cb52-4c4a-c7bb-de711cbf9df9"
      },
      "source": [
        "hat=dolphin.transpose()\n",
        "hat"
      ],
      "execution_count": 66,
      "outputs": [
        {
          "output_type": "execute_result",
          "data": {
            "text/plain": [
              "array([[[ 4., 10.,  8.],\n",
              "        [ 9.,  5.,  3.],\n",
              "        [ 2.,  2.,  1.],\n",
              "        [10.,  4.,  4.],\n",
              "        [ 9.,  7.,  2.]]])"
            ]
          },
          "metadata": {},
          "execution_count": 66
        }
      ]
    },
    {
      "cell_type": "code",
      "metadata": {
        "id": "F-5A_U_eTu4E"
      },
      "source": [
        "clock=np.random.randint(10,size=(3,3))\n",
        "table=np.random.randint(10,size=(3,2))"
      ],
      "execution_count": 83,
      "outputs": []
    },
    {
      "cell_type": "code",
      "metadata": {
        "colab": {
          "base_uri": "https://localhost:8080/"
        },
        "id": "v-w3hJoZUqjH",
        "outputId": "78eb54e2-3357-4417-e6d8-8142ae7908ef"
      },
      "source": [
        "table"
      ],
      "execution_count": 69,
      "outputs": [
        {
          "output_type": "execute_result",
          "data": {
            "text/plain": [
              "array([[1, 4],\n",
              "       [7, 9],\n",
              "       [8, 8]])"
            ]
          },
          "metadata": {},
          "execution_count": 69
        }
      ]
    },
    {
      "cell_type": "code",
      "metadata": {
        "colab": {
          "base_uri": "https://localhost:8080/"
        },
        "id": "BYlB_7WqUr_P",
        "outputId": "b64772d9-e798-4024-9ff8-da253257a721"
      },
      "source": [
        "clock #33"
      ],
      "execution_count": 70,
      "outputs": [
        {
          "output_type": "execute_result",
          "data": {
            "text/plain": [
              "array([[9, 1, 9],\n",
              "       [3, 7, 6],\n",
              "       [8, 7, 4]])"
            ]
          },
          "metadata": {},
          "execution_count": 70
        }
      ]
    },
    {
      "cell_type": "code",
      "metadata": {
        "colab": {
          "base_uri": "https://localhost:8080/"
        },
        "id": "k8QBaYgoUtnZ",
        "outputId": "b3466be7-f90d-4a1f-f8a4-41b4603c4ed4"
      },
      "source": [
        "np.dot(table,clock) #34 Have to change the dimensions to be the same for .dot to work\n",
        "\n"
      ],
      "execution_count": 78,
      "outputs": [
        {
          "output_type": "execute_result",
          "data": {
            "text/plain": [
              "array([[ 70,  63,   4],\n",
              "       [ 28,  44,  20],\n",
              "       [111, 177,  72]])"
            ]
          },
          "metadata": {},
          "execution_count": 78
        }
      ]
    },
    {
      "cell_type": "code",
      "metadata": {
        "id": "j6e9SrffV1aY"
      },
      "source": [
        "red=table.transpose()\n",
        "yellow=clock.transpose()"
      ],
      "execution_count": 89,
      "outputs": []
    },
    {
      "cell_type": "code",
      "metadata": {
        "colab": {
          "base_uri": "https://localhost:8080/"
        },
        "id": "BTiBNmJUWHX4",
        "outputId": "cd6131de-6a42-4cf6-8e99-80ee76687f4b"
      },
      "source": [
        "np.dot(red,yellow)"
      ],
      "execution_count": 90,
      "outputs": [
        {
          "output_type": "execute_result",
          "data": {
            "text/plain": [
              "array([[ 61,  84,  41],\n",
              "       [ 98, 117,  50]])"
            ]
          },
          "metadata": {},
          "execution_count": 90
        }
      ]
    },
    {
      "cell_type": "code",
      "metadata": {
        "colab": {
          "base_uri": "https://localhost:8080/"
        },
        "id": "FewXnqcuWrOV",
        "outputId": "df1d7b14-b1cd-4cdf-c0db-0dd6205ce2fb"
      },
      "source": [
        "wood=np.random.randint(10,size=(4,2))\n",
        "tree=np.random.randint(10,size=(4,2))\n",
        "wood\n",
        "tree\n",
        "\n",
        "wood>tree"
      ],
      "execution_count": 93,
      "outputs": [
        {
          "output_type": "execute_result",
          "data": {
            "text/plain": [
              "array([[False,  True],\n",
              "       [False, False],\n",
              "       [False, False],\n",
              "       [False,  True]])"
            ]
          },
          "metadata": {},
          "execution_count": 93
        }
      ]
    },
    {
      "cell_type": "code",
      "metadata": {
        "colab": {
          "base_uri": "https://localhost:8080/"
        },
        "id": "4g-XSFLuW7m4",
        "outputId": "46ff6c82-b836-4caa-f1a5-be0f9c3382b3"
      },
      "source": [
        "wood"
      ],
      "execution_count": 94,
      "outputs": [
        {
          "output_type": "execute_result",
          "data": {
            "text/plain": [
              "array([[0, 7],\n",
              "       [0, 0],\n",
              "       [1, 1],\n",
              "       [5, 6]])"
            ]
          },
          "metadata": {},
          "execution_count": 94
        }
      ]
    },
    {
      "cell_type": "code",
      "metadata": {
        "colab": {
          "base_uri": "https://localhost:8080/"
        },
        "id": "jcpFYru3XGPG",
        "outputId": "06c647c9-89c4-4486-9794-049012d3deab"
      },
      "source": [
        "tree"
      ],
      "execution_count": 95,
      "outputs": [
        {
          "output_type": "execute_result",
          "data": {
            "text/plain": [
              "array([[4, 0],\n",
              "       [0, 2],\n",
              "       [1, 4],\n",
              "       [9, 5]])"
            ]
          },
          "metadata": {},
          "execution_count": 95
        }
      ]
    },
    {
      "cell_type": "code",
      "metadata": {
        "colab": {
          "base_uri": "https://localhost:8080/"
        },
        "id": "rndEdX10XKuu",
        "outputId": "464560e8-558d-4606-e01b-ce97e439a44c"
      },
      "source": [
        "tree"
      ],
      "execution_count": 96,
      "outputs": [
        {
          "output_type": "execute_result",
          "data": {
            "text/plain": [
              "array([[4, 0],\n",
              "       [0, 2],\n",
              "       [1, 4],\n",
              "       [9, 5]])"
            ]
          },
          "metadata": {},
          "execution_count": 96
        }
      ]
    },
    {
      "cell_type": "code",
      "metadata": {
        "colab": {
          "base_uri": "https://localhost:8080/"
        },
        "id": "H1_0VJ-PXQlY",
        "outputId": "b0682d8a-08a6-43b9-d459-cbe44f363c70"
      },
      "source": [
        "wood"
      ],
      "execution_count": 97,
      "outputs": [
        {
          "output_type": "execute_result",
          "data": {
            "text/plain": [
              "array([[0, 7],\n",
              "       [0, 0],\n",
              "       [1, 1],\n",
              "       [5, 6]])"
            ]
          },
          "metadata": {},
          "execution_count": 97
        }
      ]
    },
    {
      "cell_type": "code",
      "metadata": {
        "colab": {
          "base_uri": "https://localhost:8080/"
        },
        "id": "cIQ9Cr5nXSXi",
        "outputId": "e3033758-d436-48c7-c3b8-3b11d6f28085"
      },
      "source": [
        "tree>=wood"
      ],
      "execution_count": 98,
      "outputs": [
        {
          "output_type": "execute_result",
          "data": {
            "text/plain": [
              "array([[ True, False],\n",
              "       [ True,  True],\n",
              "       [ True,  True],\n",
              "       [ True, False]])"
            ]
          },
          "metadata": {},
          "execution_count": 98
        }
      ]
    },
    {
      "cell_type": "code",
      "metadata": {
        "colab": {
          "base_uri": "https://localhost:8080/"
        },
        "id": "sYA9Y7HEXZmQ",
        "outputId": "feaabb39-7a91-42f9-a1a3-b74490cf22b6"
      },
      "source": [
        "tree.sort()\n",
        "print(tree)\n"
      ],
      "execution_count": 106,
      "outputs": [
        {
          "output_type": "stream",
          "text": [
            "[[0 4]\n",
            " [0 2]\n",
            " [1 4]\n",
            " [5 9]]\n"
          ],
          "name": "stdout"
        }
      ]
    },
    {
      "cell_type": "code",
      "metadata": {
        "colab": {
          "base_uri": "https://localhost:8080/"
        },
        "id": "Ye0tD80CX29N",
        "outputId": "ae042dfe-7495-4c3d-d27c-41bd4eaa4564"
      },
      "source": [
        "tree>7"
      ],
      "execution_count": 110,
      "outputs": [
        {
          "output_type": "execute_result",
          "data": {
            "text/plain": [
              "array([[False, False],\n",
              "       [False, False],\n",
              "       [False, False],\n",
              "       [False,  True]])"
            ]
          },
          "metadata": {},
          "execution_count": 110
        }
      ]
    },
    {
      "cell_type": "code",
      "metadata": {
        "colab": {
          "base_uri": "https://localhost:8080/"
        },
        "id": "Cwdx0hLBYGb0",
        "outputId": "09912231-f189-40b1-e52b-dd6a5e214565"
      },
      "source": [
        "tree==wood"
      ],
      "execution_count": 111,
      "outputs": [
        {
          "output_type": "execute_result",
          "data": {
            "text/plain": [
              "array([[ True, False],\n",
              "       [ True, False],\n",
              "       [ True, False],\n",
              "       [ True, False]])"
            ]
          },
          "metadata": {},
          "execution_count": 111
        }
      ]
    },
    {
      "cell_type": "code",
      "metadata": {
        "colab": {
          "base_uri": "https://localhost:8080/"
        },
        "id": "-CVimkONYMxN",
        "outputId": "1f040234-d122-428d-fbe5-69a36a4f3fb8"
      },
      "source": [
        "tree"
      ],
      "execution_count": 112,
      "outputs": [
        {
          "output_type": "execute_result",
          "data": {
            "text/plain": [
              "array([[0, 4],\n",
              "       [0, 2],\n",
              "       [1, 4],\n",
              "       [5, 9]])"
            ]
          },
          "metadata": {},
          "execution_count": 112
        }
      ]
    },
    {
      "cell_type": "code",
      "metadata": {
        "colab": {
          "base_uri": "https://localhost:8080/"
        },
        "id": "23Rj9YS7YO42",
        "outputId": "8deeed47-c714-4144-a982-9edde784e92d"
      },
      "source": [
        "wood"
      ],
      "execution_count": 113,
      "outputs": [
        {
          "output_type": "execute_result",
          "data": {
            "text/plain": [
              "array([[0, 7],\n",
              "       [0, 0],\n",
              "       [1, 1],\n",
              "       [5, 6]])"
            ]
          },
          "metadata": {},
          "execution_count": 113
        }
      ]
    },
    {
      "cell_type": "code",
      "metadata": {
        "colab": {
          "base_uri": "https://localhost:8080/"
        },
        "id": "YD1Q4npKYQp7",
        "outputId": "c7bcdb5d-5533-4e35-b61b-442d025d3d26"
      },
      "source": [
        "np.argsort(tree)\n",
        "np.argsort(wood)"
      ],
      "execution_count": 116,
      "outputs": [
        {
          "output_type": "execute_result",
          "data": {
            "text/plain": [
              "array([[0, 1],\n",
              "       [0, 1],\n",
              "       [0, 1],\n",
              "       [0, 1]])"
            ]
          },
          "metadata": {},
          "execution_count": 116
        }
      ]
    },
    {
      "cell_type": "code",
      "metadata": {
        "colab": {
          "base_uri": "https://localhost:8080/"
        },
        "id": "9zY7-DupYuU3",
        "outputId": "2d57cc2d-c2d1-43d5-97bb-63642d930636"
      },
      "source": [
        "np.argsort(wood)"
      ],
      "execution_count": 117,
      "outputs": [
        {
          "output_type": "execute_result",
          "data": {
            "text/plain": [
              "array([[0, 1],\n",
              "       [0, 1],\n",
              "       [0, 1],\n",
              "       [0, 1]])"
            ]
          },
          "metadata": {},
          "execution_count": 117
        }
      ]
    },
    {
      "cell_type": "code",
      "metadata": {
        "colab": {
          "base_uri": "https://localhost:8080/"
        },
        "id": "PTPXwpIdYx05",
        "outputId": "736511aa-d8c2-497e-cf5a-47c99b333ca8"
      },
      "source": [
        "np.argmax(wood) #Find the Index with Max value #45"
      ],
      "execution_count": 119,
      "outputs": [
        {
          "output_type": "execute_result",
          "data": {
            "text/plain": [
              "1"
            ]
          },
          "metadata": {},
          "execution_count": 119
        }
      ]
    },
    {
      "cell_type": "code",
      "metadata": {
        "colab": {
          "base_uri": "https://localhost:8080/"
        },
        "id": "30tCW3ZLZDT1",
        "outputId": "7b036175-7ed8-4852-837d-7c39719c4c64"
      },
      "source": [
        "np.argmin(wood)"
      ],
      "execution_count": 120,
      "outputs": [
        {
          "output_type": "execute_result",
          "data": {
            "text/plain": [
              "0"
            ]
          },
          "metadata": {},
          "execution_count": 120
        }
      ]
    },
    {
      "cell_type": "code",
      "metadata": {
        "colab": {
          "base_uri": "https://localhost:8080/"
        },
        "id": "tNfeJmPMZFlK",
        "outputId": "cbedb611-ff47-477b-c96d-9734d0d8ca2d"
      },
      "source": [
        "tree"
      ],
      "execution_count": 121,
      "outputs": [
        {
          "output_type": "execute_result",
          "data": {
            "text/plain": [
              "array([[0, 4],\n",
              "       [0, 2],\n",
              "       [1, 4],\n",
              "       [5, 9]])"
            ]
          },
          "metadata": {},
          "execution_count": 121
        }
      ]
    },
    {
      "cell_type": "code",
      "metadata": {
        "colab": {
          "base_uri": "https://localhost:8080/"
        },
        "id": "6_uc-ajZZfDQ",
        "outputId": "7c46c89d-073e-4cef-bb9c-56c381106567"
      },
      "source": [
        "np.max(tree)"
      ],
      "execution_count": 122,
      "outputs": [
        {
          "output_type": "execute_result",
          "data": {
            "text/plain": [
              "9"
            ]
          },
          "metadata": {},
          "execution_count": 122
        }
      ]
    },
    {
      "cell_type": "code",
      "metadata": {
        "colab": {
          "base_uri": "https://localhost:8080/"
        },
        "id": "u6wsTwOLZmJe",
        "outputId": "2ddd974c-234e-4ec3-cf8b-d93252bcd395"
      },
      "source": [
        "smile=np.argsort(tree)\n",
        "smile"
      ],
      "execution_count": 128,
      "outputs": [
        {
          "output_type": "execute_result",
          "data": {
            "text/plain": [
              "array([[0, 1],\n",
              "       [0, 1],\n",
              "       [0, 1],\n",
              "       [0, 1]])"
            ]
          },
          "metadata": {},
          "execution_count": 128
        }
      ]
    },
    {
      "cell_type": "code",
      "metadata": {
        "colab": {
          "base_uri": "https://localhost:8080/"
        },
        "id": "lfW4fT64Zr0T",
        "outputId": "9c1e0f60-9755-4e38-df5b-e08d012b9785"
      },
      "source": [
        "np.max(smile)"
      ],
      "execution_count": 129,
      "outputs": [
        {
          "output_type": "execute_result",
          "data": {
            "text/plain": [
              "1"
            ]
          },
          "metadata": {},
          "execution_count": 129
        }
      ]
    },
    {
      "cell_type": "code",
      "metadata": {
        "colab": {
          "base_uri": "https://localhost:8080/"
        },
        "id": "8KB2EzQ3ZAdV",
        "outputId": "69aa361b-76de-4fc9-92b0-9b93555942dc"
      },
      "source": [
        "np.argmax(smile,axis=1)   # When Axis=0 it is rows. When Axis=1 it's columns"
      ],
      "execution_count": 131,
      "outputs": [
        {
          "output_type": "execute_result",
          "data": {
            "text/plain": [
              "array([1, 1, 1, 1])"
            ]
          },
          "metadata": {},
          "execution_count": 131
        }
      ]
    },
    {
      "cell_type": "code",
      "metadata": {
        "colab": {
          "base_uri": "https://localhost:8080/"
        },
        "id": "OaFaOP2Yaij-",
        "outputId": "2cc2d2bf-c3fb-470d-e9d7-68d8952bf8f8"
      },
      "source": [
        "np.argmin(smile,axis=0) "
      ],
      "execution_count": 133,
      "outputs": [
        {
          "output_type": "execute_result",
          "data": {
            "text/plain": [
              "array([0, 0])"
            ]
          },
          "metadata": {},
          "execution_count": 133
        }
      ]
    },
    {
      "cell_type": "code",
      "metadata": {
        "colab": {
          "base_uri": "https://localhost:8080/"
        },
        "id": "U7XaePnmakTH",
        "outputId": "ba637148-b0e7-44c9-a2d5-2c473ea9781a"
      },
      "source": [
        ""
      ],
      "execution_count": 138,
      "outputs": [
        {
          "output_type": "execute_result",
          "data": {
            "text/plain": [
              "array([], shape=(0, 10), dtype=int64)"
            ]
          },
          "metadata": {},
          "execution_count": 138
        }
      ]
    },
    {
      "cell_type": "code",
      "metadata": {
        "colab": {
          "base_uri": "https://localhost:8080/"
        },
        "id": "4ezCdQHZbG-4",
        "outputId": "6b8d9e0f-5e5c-492c-8110-2d048073f151"
      },
      "source": [
        ""
      ],
      "execution_count": 139,
      "outputs": [
        {
          "output_type": "execute_result",
          "data": {
            "text/plain": [
              "array([], shape=(0, 10), dtype=int64)"
            ]
          },
          "metadata": {},
          "execution_count": 139
        }
      ]
    },
    {
      "cell_type": "code",
      "metadata": {
        "colab": {
          "base_uri": "https://localhost:8080/"
        },
        "id": "LBQTx4RZbRpc",
        "outputId": "76d67a7a-65d2-4df9-c0a5-29b48523711f"
      },
      "source": [
        "np.random.randint(10, size=(2,10))"
      ],
      "execution_count": 141,
      "outputs": [
        {
          "output_type": "execute_result",
          "data": {
            "text/plain": [
              "array([[5, 5, 0, 8, 5, 2, 3, 3, 2, 9],\n",
              "       [2, 2, 3, 6, 3, 8, 0, 7, 6, 1]])"
            ]
          },
          "metadata": {},
          "execution_count": 141
        }
      ]
    },
    {
      "cell_type": "code",
      "metadata": {
        "colab": {
          "base_uri": "https://localhost:8080/"
        },
        "id": "3OjX08xEagLf",
        "outputId": "27a80181-dcab-4b32-cbf4-78a804c0f1f7"
      },
      "source": [
        "np.linspace(1,100,10)"
      ],
      "execution_count": 146,
      "outputs": [
        {
          "output_type": "execute_result",
          "data": {
            "text/plain": [
              "array([  1.,  12.,  23.,  34.,  45.,  56.,  67.,  78.,  89., 100.])"
            ]
          },
          "metadata": {},
          "execution_count": 146
        }
      ]
    },
    {
      "cell_type": "code",
      "metadata": {
        "id": "2i0kv1IoaDc5"
      },
      "source": [
        ""
      ],
      "execution_count": null,
      "outputs": []
    }
  ]
}